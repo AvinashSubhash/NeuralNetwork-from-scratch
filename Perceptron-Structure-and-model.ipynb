{
  "nbformat": 4,
  "nbformat_minor": 0,
  "metadata": {
    "colab": {
      "name": "Lab_4_data.ipynb",
      "provenance": []
    },
    "kernelspec": {
      "name": "python3",
      "display_name": "Python 3"
    },
    "language_info": {
      "name": "python"
    }
  },
  "cells": [
    {
      "cell_type": "code",
      "metadata": {
        "id": "TutVaRp2aDcQ"
      },
      "source": [
        "import numpy as np"
      ],
      "execution_count": null,
      "outputs": []
    },
    {
      "cell_type": "code",
      "metadata": {
        "id": "tb8d4Yx7aeKP"
      },
      "source": [
        "and_gate_data = np.full((4,3),-1,dtype=float)\n",
        "and_gate_data[1][1] = 1\n",
        "and_gate_data[2][0] = 1\n",
        "and_gate_data[3][0],and_gate_data[3][1],and_gate_data[3][2] = 1,1,1\n",
        "#and_gate_data\n"
      ],
      "execution_count": null,
      "outputs": []
    },
    {
      "cell_type": "code",
      "metadata": {
        "id": "U2OWFJsrX3Ka",
        "colab": {
          "base_uri": "https://localhost:8080/"
        },
        "outputId": "6c0387d3-03f9-432b-b0fb-e0baeb0227c5"
      },
      "source": [
        "and_gate_data"
      ],
      "execution_count": null,
      "outputs": [
        {
          "output_type": "execute_result",
          "data": {
            "text/plain": [
              "array([[-1., -1., -1.],\n",
              "       [-1.,  1., -1.],\n",
              "       [ 1., -1., -1.],\n",
              "       [ 1.,  1.,  1.]])"
            ]
          },
          "metadata": {},
          "execution_count": 3
        }
      ]
    },
    {
      "cell_type": "code",
      "metadata": {
        "id": "g0DW2LtYdLqS"
      },
      "source": [
        "def activate(inp):\n",
        "  if inp < 0:\n",
        "    return -1.0\n",
        "  elif inp == 0:\n",
        "    return 0.0\n",
        "  else:\n",
        "    return 1.0\n",
        "\n",
        "def check_delta(delta):\n",
        "  return delta == 0"
      ],
      "execution_count": null,
      "outputs": []
    },
    {
      "cell_type": "code",
      "metadata": {
        "id": "5xBAe3pcayAd"
      },
      "source": [
        "w1=0.2\n",
        "w2=-0.75\n",
        "b=0.20\n",
        "learn = 0.005"
      ],
      "execution_count": null,
      "outputs": []
    },
    {
      "cell_type": "code",
      "metadata": {
        "id": "7Zi0La3abU4a"
      },
      "source": [
        "data = and_gate_data\n",
        "count=0\n",
        "error = 0\n",
        "i=0\n",
        "while True:\n",
        "  y_in = (w1*data[i%4][0]) + (w2*data[i%4][1]) + b\n",
        "  out_pred = activate(y_in)\n",
        "  out_real = data[i%4][2]\n",
        "  p = out_real-out_pred\n",
        "  if out_real != out_pred:\n",
        "    error += (out_pred-out_real)**2\n",
        "    b = b +  (learn*p)\n",
        "    #print(learn*p)\n",
        "    w1 = w1 + (learn*p*data[i%4][0])\n",
        "    #print(\"w1: \",w1)\n",
        "    w2 = w2 + (learn*p*data[i%4][1])\n",
        "    #print(\"w2: \",w2)\n",
        "  if i%4 == 3:\n",
        "    print(\"Epoch \",count,\": Error: \",error)\n",
        "    if check_delta(error):\n",
        "      break\n",
        "    count += 1\n",
        "    error=0\n",
        "  i+=1\n",
        "  \n",
        "print(count)\n",
        "print(w1,w2,b)"
      ],
      "execution_count": null,
      "outputs": []
    },
    {
      "cell_type": "code",
      "metadata": {
        "colab": {
          "base_uri": "https://localhost:8080/"
        },
        "id": "aPp4KlzzdmnY",
        "outputId": "1a203a6d-c601-4503-e57b-da42cbef6dd4"
      },
      "source": [
        "for i in range(4):\n",
        "  print(\"Input 1: \",data[i][0],\"  Input 2: \",data[i][1],\"  Predicted Output: \",activate(b+(w1*data[i][0])+(w2*data[i][1])),\"  Actual Output: \",data[i][2])"
      ],
      "execution_count": null,
      "outputs": [
        {
          "output_type": "stream",
          "text": [
            "Input 1:  -1.0   Input 2:  -1.0   Predicted Output:  -1.0   Actual Output:  -1.0\n",
            "Input 1:  -1.0   Input 2:  1.0   Predicted Output:  -1.0   Actual Output:  -1.0\n",
            "Input 1:  1.0   Input 2:  -1.0   Predicted Output:  -1.0   Actual Output:  -1.0\n",
            "Input 1:  1.0   Input 2:  1.0   Predicted Output:  1.0   Actual Output:  1.0\n"
          ],
          "name": "stdout"
        }
      ]
    },
    {
      "cell_type": "code",
      "metadata": {
        "id": "dvubKL-hn7_R"
      },
      "source": [
        ""
      ],
      "execution_count": null,
      "outputs": []
    }
  ]
}