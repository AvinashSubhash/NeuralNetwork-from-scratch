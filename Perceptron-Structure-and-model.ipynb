{
  "nbformat": 4,
  "nbformat_minor": 0,
  "metadata": {
    "colab": {
      "name": "Lab_4_data.ipynb",
      "provenance": [],
      "collapsed_sections": []
    },
    "kernelspec": {
      "name": "python3",
      "display_name": "Python 3"
    },
    "language_info": {
      "name": "python"
    }
  },
  "cells": [
    {
      "cell_type": "code",
      "metadata": {
        "id": "TutVaRp2aDcQ"
      },
      "source": [
        "import numpy as np\n",
        "import matplotlib.pyplot as plt"
      ],
      "execution_count": null,
      "outputs": []
    },
    {
      "cell_type": "markdown",
      "metadata": {
        "id": "ypa9RkF4Izku"
      },
      "source": [
        "**Perceptron Class Definition**\n",
        "\n",
        "Note: Functions and features required for furthur questions are already defined in this class"
      ]
    },
    {
      "cell_type": "code",
      "metadata": {
        "id": "0FWYyO7ihyAH"
      },
      "source": [
        "class Perceptron:\n",
        "\n",
        "  def __init__(self,weight_n=2,weights=None,bias=0,learn=0.005,debug=False,activation=1):\n",
        "    self.weight_n = weight_n\n",
        "    if weights == None:\n",
        "      self.weights = np.random.uniform(0,1,self.weight_n,)\n",
        "    else:\n",
        "      self.weights = np.array(weights)\n",
        "    self.bias = bias\n",
        "    self.count=0\n",
        "    self.error = 0\n",
        "    self.learn = learn\n",
        "    self.debug = debug\n",
        "    self.activation = activation\n",
        "    self.epochs=[]\n",
        "    self.error_a=[]\n",
        "    if activation not in [1,2,3]:\n",
        "      exit()\n",
        "\n",
        "  def display_param(self):  #displays the parameters\n",
        "    print(\"Weights: \",self.weights)\n",
        "    print(\"Bias: \",self.bias)\n",
        "    print(\"Learning rate: \",self.learn)\n",
        "  \n",
        "  def sign(self,inp):\n",
        "    if inp < 0:\n",
        "      return -1.0\n",
        "    elif inp == 0:\n",
        "      return 0.0\n",
        "    else:\n",
        "      return 1.0\n",
        "\n",
        "  def sigmoid(self,inp):\n",
        "    z = 1/(1+np.exp(-inp))\n",
        "    if z > 0.5:\n",
        "      return 1\n",
        "    else:\n",
        "      return -1\n",
        "  \n",
        "  def ReLU(self,inp):\n",
        "    if inp > 0:\n",
        "      return inp\n",
        "    else:\n",
        "      return -1\n",
        "\n",
        "  def check_error(self):  #checks if total error in an epoch os zero or not\n",
        "    return self.error == 0\n",
        "\n",
        "  def forw_back_prop(self,gate_data): #for calculation of forwards and backward propagation\n",
        "    if gate_data.shape[1] != self.weight_n+1:\n",
        "      print(\"Invalid data shape\")\n",
        "      return\n",
        "    size = gate_data.shape[0]\n",
        "    i=0\n",
        "    self.display_param()\n",
        "    while True:\n",
        "      #print(\"Error: \",self.error)\n",
        "      y_in = 0\n",
        "      for j in range(self.weight_n):\n",
        "        y_in += self.weights[j]*gate_data[i%size][j]\n",
        "      y_in += self.bias\n",
        "      if self.activation == 1:\n",
        "        out_pred = self.sign(y_in)\n",
        "      elif self.activation == 2:\n",
        "        out_pred = self.sigmoid(y_in)\n",
        "      elif self.activation == 3:\n",
        "        out_pred = self.ReLU(y_in)\n",
        "      out_real = gate_data[i%size][self.weight_n]\n",
        "      p = out_real-out_pred\n",
        "      if out_real != out_pred:\n",
        "        #print(p)\n",
        "        self.error += (out_pred-out_real)**2\n",
        "        self.bias = self.bias +  (self.learn*p)\n",
        "        for k in range(len(self.weights)):\n",
        "          self.weights[k] = self.weights[k] + (self.learn*p*gate_data[i%size][k])\n",
        "      if i%size == size-1:\n",
        "        if self.debug == True:\n",
        "          print(\"Epoch \",self.count,\": Error: \",self.error/self.weight_n)\n",
        "        if self.check_error():\n",
        "          self.epochs.append(self.count)\n",
        "          self.error_a.append(float(self.error)/self.weight_n)\n",
        "          break\n",
        "        self.epochs.append(self.count)\n",
        "        self.error_a.append(float(self.error)/self.weight_n)\n",
        "        self.count += 1\n",
        "        if self.count >= 1000:\n",
        "          print(\"1000 Epochs reached . .stopping . .\")\n",
        "          break\n",
        "        self.error=0\n",
        "      i+=1\n",
        "    print(\"Epochs \",self.count+1)\n",
        "  \n",
        "  def predict(self,input):  #for predicting values after training the preceptron\n",
        "    if len(input) != self.weight_n:\n",
        "      print(\"Invalid Data shape!\")\n",
        "    pred = 0\n",
        "    for i in range(self.weight_n):\n",
        "      pred += self.weights[i]*input[i]\n",
        "    pred += self.bias\n",
        "    pred = self.sign(pred)\n",
        "    print(\"Input: \",input,\"   Predicted output: \",pred)\n",
        "\n",
        "  def map(self): #returns the data requred for plotting\n",
        "    return self.epochs,self.error_a"
      ],
      "execution_count": null,
      "outputs": []
    },
    {
      "cell_type": "markdown",
      "metadata": {
        "id": "HYUKWRMuJOwj"
      },
      "source": [
        "**Defining Input data for And gate and Xor gate**"
      ]
    },
    {
      "cell_type": "code",
      "metadata": {
        "id": "tb8d4Yx7aeKP"
      },
      "source": [
        "and_gate_data = np.full((4,3),-1,dtype=float)\n",
        "and_gate_data[1][1] = 1\n",
        "and_gate_data[2][0] = 1\n",
        "and_gate_data[3][0],and_gate_data[3][1],and_gate_data[3][2] = 1,1,1\n",
        "\n",
        "xor_gate_data = np.full((4,3),-1,dtype=float)\n",
        "xor_gate_data[1][1] = 1\n",
        "xor_gate_data[2][0] = 1\n",
        "xor_gate_data[3][0],and_gate_data[3][1],and_gate_data[2][2] = 1,1,1"
      ],
      "execution_count": null,
      "outputs": []
    },
    {
      "cell_type": "markdown",
      "metadata": {
        "id": "JrCvMnO7gFo6"
      },
      "source": [
        "A1: Develop the aboveperceptron. Use the initial weights as provided below. W0 = 10, W1 = 0.2, w2 = -0.75, learning rate (α) = 0.05Use Sign activation functionto learn the weights of the network to implement above provided AND gate logic. Sign activation function is described below."
      ]
    },
    {
      "cell_type": "code",
      "metadata": {
        "colab": {
          "base_uri": "https://localhost:8080/",
          "height": 367
        },
        "id": "zFipaKMTgKXD",
        "outputId": "a411f622-5795-43da-de7d-7af02da981be"
      },
      "source": [
        "print(\" Using given Weights and bias:\")\n",
        "model = Perceptron(weights=[0.2,-0.75],bias=10,learn=0.05)\n",
        "model.forw_back_prop(and_gate_data)\n",
        "x,y = model.map()\n",
        "plt.plot(x,y)"
      ],
      "execution_count": null,
      "outputs": [
        {
          "output_type": "stream",
          "text": [
            " Using given Weights and bias:\n",
            "Weights:  [ 0.2  -0.75]\n",
            "Bias:  10\n",
            "Learning rate:  0.05\n",
            "Epochs  29\n"
          ],
          "name": "stdout"
        },
        {
          "output_type": "execute_result",
          "data": {
            "text/plain": [
              "[<matplotlib.lines.Line2D at 0x7f085f366190>]"
            ]
          },
          "metadata": {},
          "execution_count": 163
        },
        {
          "output_type": "display_data",
          "data": {
            "image/png": "[encoded data removed]",
            "text/plain": [
              "<Figure size 432x288 with 1 Axes>"
            ]
          },
          "metadata": {
            "needs_background": "light"
          }
        }
      ]
    },
    {
      "cell_type": "markdown",
      "metadata": {
        "id": "j7t-xXQxgW4j"
      },
      "source": [
        "**A2:  Repeat the above A1 experiment with following activation functions. Compare the iterations taken to converge against each of the activation functions.Keep the learning rate same as A1.•Sigmoid function•ReLU function**"
      ]
    },
    {
      "cell_type": "code",
      "metadata": {
        "colab": {
          "base_uri": "https://localhost:8080/"
        },
        "id": "XS0h6lxXiDEc",
        "outputId": "533eaa4a-ab17-4c30-9b5c-d6fce002dae4"
      },
      "source": [
        "print(\"Activation function parameter: \\n1 -> sign\\n2 -> Sigmoid\\n3 -> ReLU\\n\")"
      ],
      "execution_count": null,
      "outputs": [
        {
          "output_type": "stream",
          "text": [
            "Activation function parameter: \n",
            "1 -> sign\n",
            "2 -> Sigmoid\n",
            "3 -> ReLU\n",
            "\n"
          ],
          "name": "stdout"
        }
      ]
    },
    {
      "cell_type": "markdown",
      "metadata": {
        "id": "Sze38oeplYaJ"
      },
      "source": [
        "Using Sigmoid Activation function"
      ]
    },
    {
      "cell_type": "code",
      "metadata": {
        "colab": {
          "base_uri": "https://localhost:8080/",
          "height": 367
        },
        "id": "YVaRwnDllWlb",
        "outputId": "3590dcfd-21e4-4e83-ccfe-7ddd3ee084f5"
      },
      "source": [
        "print(\" Using given Weights and bias:\")\n",
        "model = Perceptron(weights=[0.2,-0.75],bias=10.0,learn=0.05,activation=2)\n",
        "model.forw_back_prop(and_gate_data)\n",
        "x,y = model.map()\n",
        "plt.plot(x,y)"
      ],
      "execution_count": null,
      "outputs": [
        {
          "output_type": "stream",
          "text": [
            " Using given Weights and bias:\n",
            "Weights:  [ 0.2  -0.75]\n",
            "Bias:  10.0\n",
            "Learning rate:  0.05\n",
            "Epochs  29\n"
          ],
          "name": "stdout"
        },
        {
          "output_type": "execute_result",
          "data": {
            "text/plain": [
              "[<matplotlib.lines.Line2D at 0x7f085fc88d90>]"
            ]
          },
          "metadata": {},
          "execution_count": 165
        },
        {
          "output_type": "display_data",
          "data": {
            "image/png": "[encoded data removed]",
            "text/plain": [
              "<Figure size 432x288 with 1 Axes>"
            ]
          },
          "metadata": {
            "needs_background": "light"
          }
        }
      ]
    },
    {
      "cell_type": "markdown",
      "metadata": {
        "id": "J1CArqaylcGA"
      },
      "source": [
        "Using ReLU Activation function"
      ]
    },
    {
      "cell_type": "code",
      "metadata": {
        "colab": {
          "base_uri": "https://localhost:8080/",
          "height": 369
        },
        "id": "YF17yd1yiKsn",
        "outputId": "90aa92b5-45c5-47e3-d237-eae3f1655799"
      },
      "source": [
        "print(\" Using given Weights and bias:\")\n",
        "model = Perceptron(weights=[0.2,-0.75],bias=10,learn=0.05,activation=3)\n",
        "model.forw_back_prop(and_gate_data)\n",
        "x,y = model.map()\n",
        "plt.plot(x,y)"
      ],
      "execution_count": null,
      "outputs": [
        {
          "output_type": "stream",
          "text": [
            " Using given Weights and bias:\n",
            "Weights:  [ 0.2  -0.75]\n",
            "Bias:  10\n",
            "Learning rate:  0.05\n",
            "Epochs  342\n"
          ],
          "name": "stdout"
        },
        {
          "output_type": "execute_result",
          "data": {
            "text/plain": [
              "[<matplotlib.lines.Line2D at 0x7f085f3fe510>]"
            ]
          },
          "metadata": {},
          "execution_count": 166
        },
        {
          "output_type": "display_data",
          "data": {
            "image/png": "[encoded data removed]",
            "text/plain": [
              "<Figure size 432x288 with 1 Axes>"
            ]
          },
          "metadata": {
            "needs_background": "light"
          }
        }
      ]
    },
    {
      "cell_type": "markdown",
      "metadata": {
        "id": "hSsY30eSlntd"
      },
      "source": [
        "**A3:  Repeat exercise A1 with varying the learning rate, keeping the initial weights same. Take learning rate = {0.1, 0.2, 0.3, 0.4, 0.5, 0.6, 0.7, 0.8, 0.9, 1}. Make a plot of the number of iterations taken for learning to converge against the learning rates.**"
      ]
    },
    {
      "cell_type": "code",
      "metadata": {
        "colab": {
          "base_uri": "https://localhost:8080/",
          "height": 1000
        },
        "id": "0RrS7HXdltT3",
        "outputId": "76ba18b6-bcf3-4c37-eef1-738e9caf9105"
      },
      "source": [
        "learn_rate = [0.1,0.2,0.3,0.4,0.5,0.6,0.7,0.8,0.9,1]\n",
        "data_y=[]\n",
        "for i in range(len(learn_rate)):\n",
        "  model = Perceptron(weights=[0.2,-0.75],bias=10,learn=learn_rate[i],activation=3)\n",
        "  model.forw_back_prop(and_gate_data)\n",
        "  data_y.append(model.epochs[-1])\n",
        "  print(\"\\n\")\n",
        "plt.scatter(np.array(learn_rate),np.array(data_y))"
      ],
      "execution_count": null,
      "outputs": [
        {
          "output_type": "stream",
          "text": [
            "Weights:  [ 0.2  -0.75]\n",
            "Bias:  10\n",
            "Learning rate:  0.1\n",
            "Epochs  149\n",
            "\n",
            "\n",
            "Weights:  [ 0.2  -0.75]\n",
            "Bias:  10\n",
            "Learning rate:  0.2\n",
            "Epochs  64\n",
            "\n",
            "\n",
            "Weights:  [ 0.2  -0.75]\n",
            "Bias:  10\n",
            "Learning rate:  0.3\n",
            "Epochs  28\n",
            "\n",
            "\n",
            "Weights:  [ 0.2  -0.75]\n",
            "Bias:  10\n",
            "Learning rate:  0.4\n",
            "1000 Epochs reached . .stopping . .\n",
            "Epochs  1001\n",
            "\n",
            "\n",
            "Weights:  [ 0.2  -0.75]\n",
            "Bias:  10\n",
            "Learning rate:  0.5\n",
            "Epochs  54\n",
            "\n",
            "\n",
            "Weights:  [ 0.2  -0.75]\n",
            "Bias:  10\n",
            "Learning rate:  0.6\n",
            "1000 Epochs reached . .stopping . .\n",
            "Epochs  1001\n",
            "\n",
            "\n",
            "Weights:  [ 0.2  -0.75]\n",
            "Bias:  10\n",
            "Learning rate:  0.7\n",
            "1000 Epochs reached . .stopping . .\n",
            "Epochs  1001\n",
            "\n",
            "\n",
            "Weights:  [ 0.2  -0.75]\n",
            "Bias:  10\n",
            "Learning rate:  0.8\n",
            "1000 Epochs reached . .stopping . .\n",
            "Epochs  1001\n",
            "\n",
            "\n",
            "Weights:  [ 0.2  -0.75]\n",
            "Bias:  10\n",
            "Learning rate:  0.9\n",
            "1000 Epochs reached . .stopping . .\n",
            "Epochs  1001\n",
            "\n",
            "\n",
            "Weights:  [ 0.2  -0.75]\n",
            "Bias:  10\n",
            "Learning rate:  1\n",
            "1000 Epochs reached . .stopping . .\n",
            "Epochs  1001\n",
            "\n",
            "\n"
          ],
          "name": "stdout"
        },
        {
          "output_type": "execute_result",
          "data": {
            "text/plain": [
              "<matplotlib.collections.PathCollection at 0x7f085f544290>"
            ]
          },
          "metadata": {},
          "execution_count": 167
        },
        {
          "output_type": "display_data",
          "data": {
            "image/png": "[encoded data removed]",
            "text/plain": [
              "<Figure size 432x288 with 1 Axes>"
            ]
          },
          "metadata": {
            "needs_background": "light"
          }
        }
      ]
    },
    {
      "cell_type": "markdown",
      "metadata": {
        "id": "8hl9VmHPnGVP"
      },
      "source": [
        "**A4: Repeat the above exercises for XOR gate logic.**"
      ]
    },
    {
      "cell_type": "code",
      "metadata": {
        "colab": {
          "base_uri": "https://localhost:8080/",
          "height": 367
        },
        "id": "LNlK75xLnJDN",
        "outputId": "cd47ddf2-f965-47d3-b9ad-20689b1ddd8e"
      },
      "source": [
        "print(\" Using given Weights and bias:\")\n",
        "model = Perceptron(weights=[0.2,-0.75],bias=10,learn=0.05)\n",
        "model.forw_back_prop(xor_gate_data)\n",
        "x,y = model.map()\n",
        "plt.plot(x,y)"
      ],
      "execution_count": null,
      "outputs": [
        {
          "output_type": "stream",
          "text": [
            " Using given Weights and bias:\n",
            "Weights:  [ 0.2  -0.75]\n",
            "Bias:  10\n",
            "Learning rate:  0.05\n",
            "Epochs  40\n"
          ],
          "name": "stdout"
        },
        {
          "output_type": "execute_result",
          "data": {
            "text/plain": [
              "[<matplotlib.lines.Line2D at 0x7f085f6b1210>]"
            ]
          },
          "metadata": {},
          "execution_count": 168
        },
        {
          "output_type": "display_data",
          "data": {
            "image/png": "[encoded data removed]",
            "text/plain": [
              "<Figure size 432x288 with 1 Axes>"
            ]
          },
          "metadata": {
            "needs_background": "light"
          }
        }
      ]
    },
    {
      "cell_type": "code",
      "metadata": {
        "colab": {
          "base_uri": "https://localhost:8080/"
        },
        "id": "nTFBgn2cnrLq",
        "outputId": "6aa8ef82-f436-4636-e602-93080eebf84d"
      },
      "source": [
        "print(\"Activation function parameter: \\n1 -> sign\\n2 -> Sigmoid\\n3 -> ReLU\\n\")"
      ],
      "execution_count": null,
      "outputs": [
        {
          "output_type": "stream",
          "text": [
            "Activation function parameter: \n",
            "1 -> sign\n",
            "2 -> Sigmoid\n",
            "3 -> ReLU\n",
            "\n"
          ],
          "name": "stdout"
        }
      ]
    },
    {
      "cell_type": "markdown",
      "metadata": {
        "id": "eX23tiewoBti"
      },
      "source": [
        "Using Sigmoid Activation function"
      ]
    },
    {
      "cell_type": "code",
      "metadata": {
        "colab": {
          "base_uri": "https://localhost:8080/",
          "height": 367
        },
        "id": "Q6aOG14noF0b",
        "outputId": "ce022ed7-8fc5-4db3-f652-d75450a9b8c8"
      },
      "source": [
        "print(\" Using given Weights and bias:\")\n",
        "model = Perceptron(weights=[0.2,-0.75],bias=10,learn=0.05,activation=2)\n",
        "model.forw_back_prop(xor_gate_data)\n",
        "x,y = model.map()\n",
        "plt.plot(x,y)"
      ],
      "execution_count": null,
      "outputs": [
        {
          "output_type": "stream",
          "text": [
            " Using given Weights and bias:\n",
            "Weights:  [ 0.2  -0.75]\n",
            "Bias:  10\n",
            "Learning rate:  0.05\n",
            "Epochs  40\n"
          ],
          "name": "stdout"
        },
        {
          "output_type": "execute_result",
          "data": {
            "text/plain": [
              "[<matplotlib.lines.Line2D at 0x7f0860279dd0>]"
            ]
          },
          "metadata": {},
          "execution_count": 170
        },
        {
          "output_type": "display_data",
          "data": {
            "image/png": "[encoded data removed]",
            "text/plain": [
              "<Figure size 432x288 with 1 Axes>"
            ]
          },
          "metadata": {
            "needs_background": "light"
          }
        }
      ]
    },
    {
      "cell_type": "markdown",
      "metadata": {
        "id": "UYMXhOlxoCx4"
      },
      "source": [
        "Using ReLU function"
      ]
    },
    {
      "cell_type": "code",
      "metadata": {
        "colab": {
          "base_uri": "https://localhost:8080/",
          "height": 367
        },
        "id": "aV38JOSmn17P",
        "outputId": "f20d0088-578a-4e34-8bf6-91e2693edbfd"
      },
      "source": [
        "print(\" Using given Weights and bias:\")\n",
        "model = Perceptron(weights=[0.2,-0.75],bias=10,learn=0.05,activation=3)\n",
        "model.forw_back_prop(xor_gate_data)\n",
        "x,y = model.map()\n",
        "plt.plot(x,y)"
      ],
      "execution_count": null,
      "outputs": [
        {
          "output_type": "stream",
          "text": [
            " Using given Weights and bias:\n",
            "Weights:  [ 0.2  -0.75]\n",
            "Bias:  10\n",
            "Learning rate:  0.05\n",
            "Epochs  19\n"
          ],
          "name": "stdout"
        },
        {
          "output_type": "execute_result",
          "data": {
            "text/plain": [
              "[<matplotlib.lines.Line2D at 0x7f0860532210>]"
            ]
          },
          "metadata": {},
          "execution_count": 171
        },
        {
          "output_type": "display_data",
          "data": {
            "image/png": "[encoded data removed]",
            "text/plain": [
              "<Figure size 432x288 with 1 Axes>"
            ]
          },
          "metadata": {
            "needs_background": "light"
          }
        }
      ]
    },
    {
      "cell_type": "code",
      "metadata": {
        "colab": {
          "base_uri": "https://localhost:8080/",
          "height": 1000
        },
        "id": "rYaaBBuSohiz",
        "outputId": "78befbc0-5d7a-4572-eaf0-0bd0989c3170"
      },
      "source": [
        "learn_rate = [0.1,0.2,0.3,0.4,0.5,0.6,0.7,0.8,0.9,1]\n",
        "for i in range(len(learn_rate)):\n",
        "  model = Perceptron(weights=[0.2,-0.75],bias=10,learn=learn_rate[i],activation=3)\n",
        "  model.forw_back_prop(and_gate_data)\n",
        "  x,y = model.map()\n",
        "  plt.plot(x,y)\n",
        "  plt.show()\n",
        "  print(\"\\n\")"
      ],
      "execution_count": null,
      "outputs": [
        {
          "output_type": "stream",
          "text": [
            "Weights:  [ 0.2  -0.75]\n",
            "Bias:  10\n",
            "Learning rate:  0.1\n",
            "Epochs  149\n"
          ],
          "name": "stdout"
        },
        {
          "output_type": "display_data",
          "data": {
            "image/png": "[encoded data removed]",
            "text/plain": [
              "<Figure size 432x288 with 1 Axes>"
            ]
          },
          "metadata": {
            "needs_background": "light"
          }
        },
        {
          "output_type": "stream",
          "text": [
            "\n",
            "\n",
            "Weights:  [ 0.2  -0.75]\n",
            "Bias:  10\n",
            "Learning rate:  0.2\n",
            "Epochs  64\n"
          ],
          "name": "stdout"
        },
        {
          "output_type": "display_data",
          "data": {
            "image/png": "[encoded data removed]",
            "text/plain": [
              "<Figure size 432x288 with 1 Axes>"
            ]
          },
          "metadata": {
            "needs_background": "light"
          }
        },
        {
          "output_type": "stream",
          "text": [
            "\n",
            "\n",
            "Weights:  [ 0.2  -0.75]\n",
            "Bias:  10\n",
            "Learning rate:  0.3\n",
            "Epochs  28\n"
          ],
          "name": "stdout"
        },
        {
          "output_type": "display_data",
          "data": {
            "image/png": "[encoded data removed]",
            "text/plain": [
              "<Figure size 432x288 with 1 Axes>"
            ]
          },
          "metadata": {
            "needs_background": "light"
          }
        },
        {
          "output_type": "stream",
          "text": [
            "\n",
            "\n",
            "Weights:  [ 0.2  -0.75]\n",
            "Bias:  10\n",
            "Learning rate:  0.4\n",
            "1000 Epochs reached . .stopping . .\n",
            "Epochs  1001\n"
          ],
          "name": "stdout"
        },
        {
          "output_type": "display_data",
          "data": {
            "image/png": "[encoded data removed]",
            "text/plain": [
              "<Figure size 432x288 with 1 Axes>"
            ]
          },
          "metadata": {
            "needs_background": "light"
          }
        },
        {
          "output_type": "stream",
          "text": [
            "\n",
            "\n",
            "Weights:  [ 0.2  -0.75]\n",
            "Bias:  10\n",
            "Learning rate:  0.5\n",
            "Epochs  54\n"
          ],
          "name": "stdout"
        },
        {
          "output_type": "display_data",
          "data": {
            "image/png": "[encoded data removed]",
            "text/plain": [
              "<Figure size 432x288 with 1 Axes>"
            ]
          },
          "metadata": {
            "needs_background": "light"
          }
        },
        {
          "output_type": "stream",
          "text": [
            "\n",
            "\n",
            "Weights:  [ 0.2  -0.75]\n",
            "Bias:  10\n",
            "Learning rate:  0.6\n",
            "1000 Epochs reached . .stopping . .\n",
            "Epochs  1001\n"
          ],
          "name": "stdout"
        },
        {
          "output_type": "display_data",
          "data": {
            "image/png": "[encoded data removed]",
            "text/plain": [
              "<Figure size 432x288 with 1 Axes>"
            ]
          },
          "metadata": {
            "needs_background": "light"
          }
        },
        {
          "output_type": "stream",
          "text": [
            "\n",
            "\n",
            "Weights:  [ 0.2  -0.75]\n",
            "Bias:  10\n",
            "Learning rate:  0.7\n",
            "1000 Epochs reached . .stopping . .\n",
            "Epochs  1001\n"
          ],
          "name": "stdout"
        },
        {
          "output_type": "display_data",
          "data": {
            "image/png": "[encoded data removed]",
            "text/plain": [
              "<Figure size 432x288 with 1 Axes>"
            ]
          },
          "metadata": {
            "needs_background": "light"
          }
        },
        {
          "output_type": "stream",
          "text": [
            "\n",
            "\n",
            "Weights:  [ 0.2  -0.75]\n",
            "Bias:  10\n",
            "Learning rate:  0.8\n",
            "1000 Epochs reached . .stopping . .\n",
            "Epochs  1001\n"
          ],
          "name": "stdout"
        },
        {
          "output_type": "display_data",
          "data": {
            "image/png": "[encoded data removed]",
            "text/plain": [
              "<Figure size 432x288 with 1 Axes>"
            ]
          },
          "metadata": {
            "needs_background": "light"
          }
        },
        {
          "output_type": "stream",
          "text": [
            "\n",
            "\n",
            "Weights:  [ 0.2  -0.75]\n",
            "Bias:  10\n",
            "Learning rate:  0.9\n",
            "1000 Epochs reached . .stopping . .\n",
            "Epochs  1001\n"
          ],
          "name": "stdout"
        },
        {
          "output_type": "display_data",
          "data": {
            "image/png": "[encoded data removed]",
            "text/plain": [
              "<Figure size 432x288 with 1 Axes>"
            ]
          },
          "metadata": {
            "needs_background": "light"
          }
        },
        {
          "output_type": "stream",
          "text": [
            "\n",
            "\n",
            "Weights:  [ 0.2  -0.75]\n",
            "Bias:  10\n",
            "Learning rate:  1\n",
            "1000 Epochs reached . .stopping . .\n",
            "Epochs  1001\n"
          ],
          "name": "stdout"
        },
        {
          "output_type": "display_data",
          "data": {
            "image/png": "[encoded data removed]",
            "text/plain": [
              "<Figure size 432x288 with 1 Axes>"
            ]
          },
          "metadata": {
            "needs_background": "light"
          }
        },
        {
          "output_type": "stream",
          "text": [
            "\n",
            "\n"
          ],
          "name": "stdout"
        }
      ]
    },
    {
      "cell_type": "markdown",
      "metadata": {
        "id": "kZWg1tvKuNjK"
      },
      "source": [
        "A5: Use customer data provided below. Build a perceptron & learn to classify the transactions as\n",
        "high or low value as provided in the below table. Use sigmoid as the activation function. Initialize the\n",
        "weights & learning rate with your choice."
      ]
    },
    {
      "cell_type": "code",
      "metadata": {
        "colab": {
          "base_uri": "https://localhost:8080/"
        },
        "id": "3Xug2uBsoyQ_",
        "outputId": "63d2ebf5-5432-4ace-eb14-a6e82344c7b7"
      },
      "source": [
        "cust_data = [[20,6,2,386,1]]\n",
        "cust_data.append([16,3,6,289,1])\n",
        "cust_data.append([27,6,2,393,1])\n",
        "cust_data.append([19,1,2,110,-1])\n",
        "cust_data.append([24,4,2,280,1])\n",
        "cust_data.append([22,1,5,167,-1])\n",
        "cust_data.append([15,4,2,271,1])\n",
        "cust_data.append([18,4,2,274,1])\n",
        "cust_data.append([21,1,4,148,-1])\n",
        "cust_data.append([16,2,4,198,-1])\n",
        "cust_data = np.array(cust_data)\n",
        "print(cust_data.shape)"
      ],
      "execution_count": null,
      "outputs": [
        {
          "output_type": "stream",
          "text": [
            "(10, 5)\n"
          ],
          "name": "stdout"
        }
      ]
    },
    {
      "cell_type": "code",
      "metadata": {
        "colab": {
          "base_uri": "https://localhost:8080/",
          "height": 350
        },
        "id": "Q1EuETmpuSB3",
        "outputId": "d79e719f-8256-433d-8422-fa87afe5e7bf"
      },
      "source": [
        "model = Perceptron(weight_n=4,learn=0.05,activation=2)\n",
        "model.forw_back_prop(cust_data)\n",
        "x,y = model.map()\n",
        "plt.plot(x,y)\n",
        "final_weights = model.weights"
      ],
      "execution_count": null,
      "outputs": [
        {
          "output_type": "stream",
          "text": [
            "Weights:  [0.25592502 0.90486534 0.65565541 0.75988874]\n",
            "Bias:  0\n",
            "Learning rate:  0.05\n",
            "Epochs  733\n"
          ],
          "name": "stdout"
        },
        {
          "output_type": "stream",
          "text": [
            "/usr/local/lib/python3.7/dist-packages/ipykernel_launcher.py:34: RuntimeWarning: overflow encountered in exp\n"
          ],
          "name": "stderr"
        },
        {
          "output_type": "display_data",
          "data": {
            "image/png": "[encoded data removed]",
            "text/plain": [
              "<Figure size 432x288 with 1 Axes>"
            ]
          },
          "metadata": {
            "needs_background": "light"
          }
        }
      ]
    },
    {
      "cell_type": "markdown",
      "metadata": {
        "id": "0yWfAHm-5s1r"
      },
      "source": [
        "**A6: Compare the results obtained from above perceptron learning to the ones obtained with matrix\n",
        "pseudo-inverse**"
      ]
    },
    {
      "cell_type": "code",
      "metadata": {
        "colab": {
          "base_uri": "https://localhost:8080/",
          "height": 616
        },
        "id": "W1L5GBEyyC6X",
        "outputId": "32ec6b5c-197f-45e3-9a27-20ec97e213ed"
      },
      "source": [
        "y = cust_data[:,4]\n",
        "y = y.reshape(-1,1)\n",
        "input1_inv = np.linalg.pinv(cust_data[:,0:4])\n",
        "final_out = np.matmul(input1_inv,y)\n",
        "print(final_out.T,final_weights)\n",
        "print(\"\\nValues from inverse matrix multiplication\")\n",
        "plt.scatter([1,2,3,4],final_out)\n",
        "plt.show()\n",
        "print(\"\\n\\nValues from perceptron\")\n",
        "plt.scatter([1,2,3,4],final_weights)\n",
        "plt.show()"
      ],
      "execution_count": null,
      "outputs": [
        {
          "output_type": "stream",
          "text": [
            "[[-0.08060388  0.04409209 -0.12979021  0.00823736]] [-577.94407498   94.70486534 -251.04434459   50.95988874]\n",
            "\n",
            "Values from inverse matrix multiplication\n"
          ],
          "name": "stdout"
        },
        {
          "output_type": "display_data",
          "data": {
            "image/png": "[encoded data removed]",
            "text/plain": [
              "<Figure size 432x288 with 1 Axes>"
            ]
          },
          "metadata": {
            "needs_background": "light"
          }
        },
        {
          "output_type": "stream",
          "text": [
            "\n",
            "\n",
            "Values from perceptron\n"
          ],
          "name": "stdout"
        },
        {
          "output_type": "display_data",
          "data": {
            "image/png": "[encoded data removed]",
            "text/plain": [
              "<Figure size 432x288 with 1 Axes>"
            ]
          },
          "metadata": {
            "needs_background": "light"
          }
        }
      ]
    },
    {
      "cell_type": "markdown",
      "metadata": {
        "id": "tMEMq0lx9kEJ"
      },
      "source": [
        "**Optional**"
      ]
    },
    {
      "cell_type": "code",
      "metadata": {
        "id": "U2OWFJsrX3Ka",
        "colab": {
          "base_uri": "https://localhost:8080/"
        },
        "outputId": "285510eb-b160-44fa-9579-9346f3965276"
      },
      "source": [
        "print(\"With Sigmoid\")\n",
        "\n",
        "print(\"\\n\\nTweak 1:    Random value for weights\")\n",
        "model = Perceptron(bias=10,learn=0.005,activation=2)\n",
        "model.forw_back_prop(and_gate_data)\n",
        "\n",
        "print(\"\\n\\nTweak 2:    Reducing bias\")\n",
        "model = Perceptron(bias=4,learn=0.35,activation=2)\n",
        "model.forw_back_prop(and_gate_data)\n",
        "\n",
        "print(\"\\n\\nTweak 3:    Increasing Learning rate\")\n",
        "model = Perceptron(bias=0.5,learn=0.35,activation=2)\n",
        "model.forw_back_prop(and_gate_data)\n",
        "\n",
        "print(\"\\n\\nOptimal Solution\")\n",
        "model = Perceptron(bias=0.5,learn=0.35,activation=2)\n",
        "model.forw_back_prop(and_gate_data)\n",
        "model.predict([1,-1])"
      ],
      "execution_count": null,
      "outputs": [
        {
          "output_type": "stream",
          "text": [
            "With Sigmoid\n",
            "\n",
            "\n",
            "Tweak 1:    Random value for weights\n",
            "Weights:  [0.40319483 0.69184814]\n",
            "Bias:  10\n",
            "Learning rate:  0.005\n",
            "Epochs  270\n",
            "\n",
            "\n",
            "Tweak 2:    Reducing bias\n",
            "Weights:  [0.13068857 0.72500616]\n",
            "Bias:  4\n",
            "Learning rate:  0.35\n",
            "Epochs  3\n",
            "\n",
            "\n",
            "Tweak 3:    Increasing Learning rate\n",
            "Weights:  [0.36320989 0.60453695]\n",
            "Bias:  0.5\n",
            "Learning rate:  0.35\n",
            "Epochs  2\n",
            "\n",
            "\n",
            "Optimal Solution\n",
            "Weights:  [0.85376456 0.80439378]\n",
            "Bias:  0.5\n",
            "Learning rate:  0.35\n",
            "Epochs  2\n",
            "Input:  [1, -1]    Predicted output:  1.0\n"
          ],
          "name": "stdout"
        }
      ]
    },
    {
      "cell_type": "code",
      "metadata": {
        "id": "rSRQyKUN-0ZM"
      },
      "source": [
        "\"\"\"while True:\n",
        "      y_in = 0\n",
        "      for j in range(weight_n):\n",
        "        y_in += weights[j]*gate_data[i%size][j]\n",
        "      y_in += bias\n",
        "      out_pred = sign(y_in)\n",
        "      out_real = gate_data[i%size][2]\n",
        "      p = out_real-out_pred\n",
        "      if out_real != out_pred:\n",
        "        error += (out_pred-out_real)**2\n",
        "        bias = bias +  (learn*p)\n",
        "        for k in range(weight_n):\n",
        "          weights[k] = weights[k] + (learn*p*gate_data[i%size][k])\n",
        "      if i%size == size-1:\n",
        "        print(\"Epoch \",count,\": Error: \",error/weight_n)\n",
        "        if check_error():\n",
        "          break\n",
        "        count += 1\n",
        "        if count >= 1000:\n",
        "          print(\"1000 Epochs reached . .stopping . .\")\n",
        "          break\n",
        "        error=0\n",
        "      i+=1\"\"\""
      ],
      "execution_count": null,
      "outputs": []
    }
  ]
}